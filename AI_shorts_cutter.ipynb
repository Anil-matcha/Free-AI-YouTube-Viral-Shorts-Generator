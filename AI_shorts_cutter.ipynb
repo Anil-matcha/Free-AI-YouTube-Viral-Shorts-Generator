{
  "nbformat": 4,
  "nbformat_minor": 0,
  "metadata": {
    "colab": {
      "provenance": [],
      "gpuType": "T4",
      "authorship_tag": "ABX9TyNwHkqoxMOBHx3iyPaqp97E",
      "include_colab_link": true
    },
    "kernelspec": {
      "name": "python3",
      "display_name": "Python 3"
    },
    "language_info": {
      "name": "python"
    },
    "accelerator": "GPU"
  },
  "cells": [
    {
      "cell_type": "markdown",
      "metadata": {
        "id": "view-in-github",
        "colab_type": "text"
      },
      "source": [
        "<a href=\"https://colab.research.google.com/github/Anil-matcha/Free-AI-YouTube-Viral-Shorts-Generator/blob/main/AI_shorts_cutter.ipynb\" target=\"_parent\"><img src=\"https://colab.research.google.com/assets/colab-badge.svg\" alt=\"Open In Colab\"/></a>"
      ]
    },
    {
      "cell_type": "code",
      "source": [
        "!pip install -q -U google-generativeai"
      ],
      "metadata": {
        "colab": {
          "base_uri": "https://localhost:8080/"
        },
        "id": "5hTKnNyyxJ7z",
        "outputId": "2dee916c-2837-4645-a1ef-fea25d7ce96c"
      },
      "execution_count": null,
      "outputs": [
        {
          "output_type": "stream",
          "name": "stdout",
          "text": [
            "\u001b[2K     \u001b[90m━━━━━━━━━━━━━━━━━━━━━━━━━━━━━━━━━━━━━━━━\u001b[0m \u001b[32m142.1/142.1 kB\u001b[0m \u001b[31m1.3 MB/s\u001b[0m eta \u001b[36m0:00:00\u001b[0m\n",
            "\u001b[2K     \u001b[90m━━━━━━━━━━━━━━━━━━━━━━━━━━━━━━━━━━━━━━━━\u001b[0m \u001b[32m663.6/663.6 kB\u001b[0m \u001b[31m6.9 MB/s\u001b[0m eta \u001b[36m0:00:00\u001b[0m\n",
            "\u001b[?25h"
          ]
        }
      ]
    },
    {
      "cell_type": "code",
      "execution_count": null,
      "metadata": {
        "id": "Ue81lTqyw2_Z"
      },
      "outputs": [],
      "source": [
        "GOOGLE_API_KEY = \"api-key\""
      ]
    },
    {
      "cell_type": "code",
      "source": [
        "import google.generativeai as genai\n",
        "genai.configure(api_key=GOOGLE_API_KEY)"
      ],
      "metadata": {
        "id": "mis3sSA3xBnR"
      },
      "execution_count": null,
      "outputs": []
    },
    {
      "cell_type": "code",
      "source": [
        "# @title\n",
        "for m in genai.list_models():\n",
        "  if 'generateContent' in m.supported_generation_methods:\n",
        "    print(m.name)"
      ],
      "metadata": {
        "colab": {
          "base_uri": "https://localhost:8080/",
          "height": 142
        },
        "id": "vGlq72G6xTbp",
        "outputId": "68c5f7f4-7c8c-48cc-a717-c566e345e3f9"
      },
      "execution_count": null,
      "outputs": [
        {
          "output_type": "stream",
          "name": "stdout",
          "text": [
            "models/gemini-1.0-pro\n",
            "models/gemini-1.0-pro-001\n",
            "models/gemini-1.0-pro-latest\n",
            "models/gemini-1.0-pro-vision-latest\n",
            "models/gemini-1.5-pro-latest\n",
            "models/gemini-pro\n",
            "models/gemini-pro-vision\n"
          ]
        }
      ]
    },
    {
      "cell_type": "code",
      "source": [
        "!ffmpeg -i input_video.mp4 -ab 160k -ac 2 -ar 44100 -vn audio.wav"
      ],
      "metadata": {
        "colab": {
          "base_uri": "https://localhost:8080/"
        },
        "id": "V-1tQ12Vx_DE",
        "outputId": "e3053105-fa3b-4be6-a0f1-248cb14a37c8"
      },
      "execution_count": null,
      "outputs": [
        {
          "output_type": "stream",
          "name": "stdout",
          "text": [
            "ffmpeg version 4.4.2-0ubuntu0.22.04.1 Copyright (c) 2000-2021 the FFmpeg developers\n",
            "  built with gcc 11 (Ubuntu 11.2.0-19ubuntu1)\n",
            "  configuration: --prefix=/usr --extra-version=0ubuntu0.22.04.1 --toolchain=hardened --libdir=/usr/lib/x86_64-linux-gnu --incdir=/usr/include/x86_64-linux-gnu --arch=amd64 --enable-gpl --disable-stripping --enable-gnutls --enable-ladspa --enable-libaom --enable-libass --enable-libbluray --enable-libbs2b --enable-libcaca --enable-libcdio --enable-libcodec2 --enable-libdav1d --enable-libflite --enable-libfontconfig --enable-libfreetype --enable-libfribidi --enable-libgme --enable-libgsm --enable-libjack --enable-libmp3lame --enable-libmysofa --enable-libopenjpeg --enable-libopenmpt --enable-libopus --enable-libpulse --enable-librabbitmq --enable-librubberband --enable-libshine --enable-libsnappy --enable-libsoxr --enable-libspeex --enable-libsrt --enable-libssh --enable-libtheora --enable-libtwolame --enable-libvidstab --enable-libvorbis --enable-libvpx --enable-libwebp --enable-libx265 --enable-libxml2 --enable-libxvid --enable-libzimg --enable-libzmq --enable-libzvbi --enable-lv2 --enable-omx --enable-openal --enable-opencl --enable-opengl --enable-sdl2 --enable-pocketsphinx --enable-librsvg --enable-libmfx --enable-libdc1394 --enable-libdrm --enable-libiec61883 --enable-chromaprint --enable-frei0r --enable-libx264 --enable-shared\n",
            "  libavutil      56. 70.100 / 56. 70.100\n",
            "  libavcodec     58.134.100 / 58.134.100\n",
            "  libavformat    58. 76.100 / 58. 76.100\n",
            "  libavdevice    58. 13.100 / 58. 13.100\n",
            "  libavfilter     7.110.100 /  7.110.100\n",
            "  libswscale      5.  9.100 /  5.  9.100\n",
            "  libswresample   3.  9.100 /  3.  9.100\n",
            "  libpostproc    55.  9.100 / 55.  9.100\n",
            "Input #0, mov,mp4,m4a,3gp,3g2,mj2, from 'input_video.mp4':\n",
            "  Metadata:\n",
            "    major_brand     : mp42\n",
            "    minor_version   : 0\n",
            "    compatible_brands: isommp42\n",
            "    encoder         : Google\n",
            "  Duration: 00:06:56.22, start: 0.000000, bitrate: 373 kb/s\n",
            "  Stream #0:0(und): Video: h264 (Main) (avc1 / 0x31637661), yuv420p(tv, bt709), 640x360 [SAR 1:1 DAR 16:9], 274 kb/s, 25 fps, 25 tbr, 12800 tbn, 50 tbc (default)\n",
            "    Metadata:\n",
            "      handler_name    : ISO Media file produced by Google Inc.\n",
            "      vendor_id       : [0][0][0][0]\n",
            "  Stream #0:1(eng): Audio: aac (LC) (mp4a / 0x6134706D), 44100 Hz, stereo, fltp, 95 kb/s (default)\n",
            "    Metadata:\n",
            "      handler_name    : ISO Media file produced by Google Inc.\n",
            "      vendor_id       : [0][0][0][0]\n",
            "Stream mapping:\n",
            "  Stream #0:1 -> #0:0 (aac (native) -> pcm_s16le (native))\n",
            "Press [q] to stop, [?] for help\n",
            "Output #0, wav, to 'audio.wav':\n",
            "  Metadata:\n",
            "    major_brand     : mp42\n",
            "    minor_version   : 0\n",
            "    compatible_brands: isommp42\n",
            "    ISFT            : Lavf58.76.100\n",
            "  Stream #0:0(eng): Audio: pcm_s16le ([1][0][0][0] / 0x0001), 44100 Hz, stereo, s16, 1411 kb/s (default)\n",
            "    Metadata:\n",
            "      handler_name    : ISO Media file produced by Google Inc.\n",
            "      vendor_id       : [0][0][0][0]\n",
            "      encoder         : Lavc58.134.100 pcm_s16le\n",
            "size=   71700kB time=00:06:56.19 bitrate=1411.3kbits/s speed= 829x    \n",
            "video:0kB audio:71700kB subtitle:0kB other streams:0kB global headers:0kB muxing overhead: 0.000106%\n"
          ]
        }
      ]
    },
    {
      "cell_type": "code",
      "source": [
        "your_file = genai.upload_file(path='audio.wav')"
      ],
      "metadata": {
        "id": "1DfpMwJMy38U"
      },
      "execution_count": null,
      "outputs": []
    },
    {
      "cell_type": "code",
      "source": [
        "prompt = \"Listen carefully to the following audio file. Give me timestamps to split the long video into viral shorts.\"\n",
        "model = genai.GenerativeModel('models/gemini-1.5-pro-latest')\n",
        "response = model.generate_content([prompt, your_file])\n",
        "print(response.text)"
      ],
      "metadata": {
        "colab": {
          "base_uri": "https://localhost:8080/",
          "height": 859
        },
        "id": "qt8dIDaCxXd-",
        "outputId": "38a204b6-6c17-4c11-b5ce-83285e057b63"
      },
      "execution_count": null,
      "outputs": [
        {
          "output_type": "stream",
          "name": "stdout",
          "text": [
            "## Viral Short Timestamps:\n",
            "\n",
            "Here's how I would split the video into potential viral shorts, focusing on engaging moments and key points:\n",
            "\n",
            "**Short 1 (Humorous): 0:00 - 0:15**\n",
            "\n",
            "*   Title: **\"Admire Me!\" - AI Wants Your Respect** \n",
            "*   Content: This short would start with the user's question about multiple options and highlight the AI's witty and confident response, emphasizing the humor in its demand for admiration.\n",
            "\n",
            "**Short 2 (Intriguing): 0:15 - 0:33**\n",
            "\n",
            "*   Title: **Is AI a Problem for Others?**\n",
            "*   Content: This short would focus on the user's follow-up question about whether AI having multiple options is a problem for other people. It would end just as the AI starts to answer, creating suspense and encouraging viewers to find out more.\n",
            "\n",
            "**Short 3 (Informative): 1:19 - 2:13**\n",
            "\n",
            "*   Title: **The Complexity of International Relations**\n",
            "*   Content: This short would feature the AI's insightful explanation about the diverse and complex nature of international relations, emphasizing the need to understand the historical context and unique dynamics between countries. \n",
            "\n",
            "**Short 4 (Thought-provoking): 2:13 - 2:53**\n",
            "\n",
            "*   Title: **Partnerships & Choices in a Globalized World** \n",
            "*   Content: This short would showcase the AI's discussion on how good partnerships offer choices, and how \"smart partners\" sometimes make those choices. It would also touch upon the idea that countries have different priorities based on their development and experiences.\n",
            "\n",
            "**Short 5 (Engaging): 3:53 - 4:13**\n",
            "\n",
            "*   Title: **The Rise of Metal Powers: A Challenge or a Bridge?** \n",
            "*   Content: This short would focus on the user's question about the rise of metal powers and its implications for the West. It would present the idea of metal powers as a potential bridge, especially in the context of US-China competition.\n",
            "\n",
            "**Short 6 (Insightful): 4:13 - 5:14**\n",
            "\n",
            "*   Title: **The BRICS & a Shifting Global Landscape** \n",
            "*   Content: This short would feature the AI's explanation of the BRICS' origin and purpose, highlighting the group's role in providing a platform for non-Western powers and its contribution to the evolution of global governance structures.\n",
            "\n",
            "**Short 7 (Conclusive): 5:14 - 6:45**\n",
            "\n",
            "*   Title: **Beyond the West vs. the Rest: A New Era of Diplomacy** \n",
            "*   Content: This short would present the AI's argument for moving beyond simplistic classifications and embracing the complexities of the modern world. It would emphasize the importance of nuanced approaches to international relations and cooperation. \n",
            "\n",
            "**Additional Tips:**\n",
            "\n",
            "*   You could add text overlays to the shorts for context and key points.\n",
            "*   Use engaging visuals and music to enhance the viewer experience.\n",
            "*   Tailor the content and style of each short to the specific platform you are targeting (e.g., TikTok, Instagram Reels, YouTube Shorts).\n",
            "*   Engage with viewers in the comments section and encourage discussion. \n",
            "\n"
          ]
        }
      ]
    }
  ]
}